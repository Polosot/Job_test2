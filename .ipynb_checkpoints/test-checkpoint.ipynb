{
 "cells": [
  {
   "cell_type": "markdown",
   "metadata": {},
   "source": [
    "# Job test\n",
    "\n",
    "\n",
    "Sarana Maksym's solution"
   ]
  },
  {
   "cell_type": "markdown",
   "metadata": {},
   "source": [
    "### Task description\n",
    "\n",
    "* The task is a standard credit scoring problem  - you need to build a model predicting probability of a loan going into bad status (SeriousDlqin2yrs variable)\n",
    "\n",
    "* You can train your data using file train.csv, where target variable is present\n",
    "\n",
    "* After you have trained a model, we expect you to send us \n",
    "  \n",
    " * brief description of technique you used \n",
    "  \n",
    " * csv file containing calculated probabilities of loan going into bad status using data from file test.csv. File should contain Ident variable and calculated probability variable so we can see the performance of your model\n",
    "\n",
    "* Good luck"
   ]
  },
  {
   "cell_type": "markdown",
   "metadata": {},
   "source": [
    "### Data Dictionary"
   ]
  },
  {
   "cell_type": "markdown",
   "metadata": {},
   "source": [
    "| Variable Name                        | Description                                                                                                                                              | Type       |\n",
    "|--------------------------------------|----------------------------------------------------------------------------------------------------------------------------------------------------------|------------|\n",
    "| SeriousDlqin2yrs                     | Person experienced 90 days past due delinquency or worse                                                                                                 | Y/N        |\n",
    "| RevolvingUtilizationOfUnsecuredLines | Total balance on credit cards and personal lines of credit except real estate and no installment debt like car loans divided by the sum of credit limits | percentage |\n",
    "| age                                  | Age of borrower in years                                                                                                                                 | integer    |\n",
    "| NumberOfTime30-59DaysPastDueNotWorse | Number of times borrower has been 30-59 days past due but no worse in the last 2 years.                                                                  | integer    |\n",
    "| DebtRatio                            | Monthly debt payments, alimony,living costs divided by monthy gross income                                                                               | percentage |\n",
    "| MonthlyIncome                        | Monthly income                                                                                                                                           | real       |\n",
    "| NumberOfOpenCreditLinesAndLoans      | Number of Open loans (installment like car loan or mortgage) and Lines of credit (e.g. credit cards)                                                     | integer    |\n",
    "| NumberOfTimes90DaysLate              | Number of times borrower has been 90 days or more past due.                                                                                              | integer    |\n",
    "| NumberRealEstateLoansOrLines         | Number of mortgage and real estate loans including home equity lines of credit                                                                           | integer    |\n",
    "| NumberOfTime60-89DaysPastDueNotWorse | Number of times borrower has been 60-89 days past due but no worse in the last 2 years.                                                                  | integer    |\n",
    "| NumberOfDependents                   | Number of dependents in family excluding themselves (spouse, children etc.)                                                                              | integer    |\n",
    "| Ident                                | Case Id                                                                                                                                                  | integer    |"
   ]
  },
  {
   "cell_type": "markdown",
   "metadata": {
    "collapsed": true
   },
   "source": [
    "## Solution\n",
    "\n",
    "### Synopsis\n",
    "\n",
    "I'm planning to pass the following steps in my solution:\n",
    "\n",
    "* Read a data and analyze it briefly\n",
    "* Extract 20% of given train dataset for testing choosed model\n",
    "* Choose and tuning the model (preprocessing scheme and predicting algorithm) using K-Fold cross validation\n",
    "* Test choosed model on a new data (saved 20% of the train dataset)\n",
    "* Learn a model on whole train dataset and predict a target variable of given test dataset\n",
    "\n",
    "![scheme](Scheme2.png \"Scheme\")"
   ]
  },
  {
   "cell_type": "markdown",
   "metadata": {},
   "source": [
    "## Code\n",
    "Imports:"
   ]
  },
  {
   "cell_type": "code",
   "execution_count": 56,
   "metadata": {
    "collapsed": true
   },
   "outputs": [],
   "source": [
    "import pandas as pd\n",
    "import numpy as np\n",
    "import random\n",
    "import matplotlib as mpl\n",
    "import matplotlib.pyplot as plt\n",
    "from sklearn.cross_validation import StratifiedKFold\n",
    "from sklearn.cross_validation import train_test_split\n",
    "from sklearn import metrics\n",
    "from sklearn.linear_model import LogisticRegression\n",
    "from sklearn.metrics import roc_auc_score\n",
    "from sklearn.ensemble import RandomForestRegressor\n",
    "from sklearn.naive_bayes import GaussianNB\n",
    "import xgboost as xgb\n",
    "\n",
    "pd.set_option('precision', 5)\n",
    "\n",
    "%matplotlib inline"
   ]
  },
  {
   "cell_type": "markdown",
   "metadata": {},
   "source": [
    "### Reading the data"
   ]
  },
  {
   "cell_type": "code",
   "execution_count": 2,
   "metadata": {
    "collapsed": false
   },
   "outputs": [
    {
     "data": {
      "text/plain": [
       "[(104681, 12), (45319, 11)]"
      ]
     },
     "execution_count": 2,
     "metadata": {},
     "output_type": "execute_result"
    }
   ],
   "source": [
    "raw_train = pd.read_csv(\"Train.csv\", sep=\";\", na_values=\" \")\n",
    "raw_test = pd.read_csv(\"Test.csv\", sep=\";\", na_values=\" \", dtype={\"Ident\":object})\n",
    "\n",
    "[raw_train.shape, raw_test.shape]"
   ]
  },
  {
   "cell_type": "markdown",
   "metadata": {},
   "source": [
    "**Attention:** notice that the **Ident** field in the *Test.csv* file has an exponencial format:\n",
    "\n",
    "![screen](Screen.png \"Screen\")\n",
    "\n",
    "It means that the last digit of Idents had been lost, so I decided to import these values as strings. **But they may not be matched during the evaluation!**\n",
    "\n",
    "Read values:"
   ]
  },
  {
   "cell_type": "code",
   "execution_count": 3,
   "metadata": {
    "collapsed": false
   },
   "outputs": [
    {
     "data": {
      "text/plain": [
       "45314    30.37385263004518E+015\n",
       "45315    30.37392011519599E+015\n",
       "45316    30.37412257604789E+015\n",
       "45317    30.37419006479836E+015\n",
       "45318    30.37473000720003E+015\n",
       "Name: Ident, dtype: object"
      ]
     },
     "execution_count": 3,
     "metadata": {},
     "output_type": "execute_result"
    }
   ],
   "source": [
    "raw_test.Ident.tail()"
   ]
  },
  {
   "cell_type": "markdown",
   "metadata": {},
   "source": [
    "### Brief exploratory analysis\n",
    "\n",
    "Test whether there are duplicate entries:"
   ]
  },
  {
   "cell_type": "code",
   "execution_count": 4,
   "metadata": {
    "collapsed": false
   },
   "outputs": [
    {
     "data": {
      "text/plain": [
       "(False, False)"
      ]
     },
     "execution_count": 4,
     "metadata": {},
     "output_type": "execute_result"
    }
   ],
   "source": [
    "(len(raw_train.Ident.unique()) != len(raw_train.Ident), len(raw_test.Ident.unique()) != len(raw_test.Ident))"
   ]
  },
  {
   "cell_type": "markdown",
   "metadata": {},
   "source": [
    "Test whether there are common entries in the train and test datasets:"
   ]
  },
  {
   "cell_type": "code",
   "execution_count": 5,
   "metadata": {
    "collapsed": false
   },
   "outputs": [
    {
     "data": {
      "text/plain": [
       "set()"
      ]
     },
     "execution_count": 5,
     "metadata": {},
     "output_type": "execute_result"
    }
   ],
   "source": [
    "set(raw_train.Ident) & set(raw_test.Ident)"
   ]
  },
  {
   "cell_type": "markdown",
   "metadata": {},
   "source": [
    "Statistics:"
   ]
  },
  {
   "cell_type": "code",
   "execution_count": 6,
   "metadata": {
    "collapsed": false
   },
   "outputs": [
    {
     "name": "stderr",
     "output_type": "stream",
     "text": [
      "/home/maksym/anaconda/lib/python2.7/site-packages/numpy/lib/function_base.py:3823: RuntimeWarning: Invalid value encountered in percentile\n",
      "  RuntimeWarning)\n"
     ]
    },
    {
     "data": {
      "text/html": [
       "<div>\n",
       "<table border=\"1\" class=\"dataframe\">\n",
       "  <thead>\n",
       "    <tr style=\"text-align: right;\">\n",
       "      <th></th>\n",
       "      <th>count</th>\n",
       "      <th>mean</th>\n",
       "      <th>std</th>\n",
       "      <th>min</th>\n",
       "      <th>25%</th>\n",
       "      <th>50%</th>\n",
       "      <th>75%</th>\n",
       "      <th>max</th>\n",
       "    </tr>\n",
       "  </thead>\n",
       "  <tbody>\n",
       "    <tr>\n",
       "      <th>SeriousDlqin2yrs</th>\n",
       "      <td>104681.00</td>\n",
       "      <td>0.07</td>\n",
       "      <td>0.25</td>\n",
       "      <td>0.00</td>\n",
       "      <td>0.00</td>\n",
       "      <td>0.00</td>\n",
       "      <td>0.00</td>\n",
       "      <td>1.00</td>\n",
       "    </tr>\n",
       "    <tr>\n",
       "      <th>RevolvingUtilizationOfUnsecuredLines</th>\n",
       "      <td>104681.00</td>\n",
       "      <td>0.32</td>\n",
       "      <td>0.35</td>\n",
       "      <td>0.00</td>\n",
       "      <td>0.03</td>\n",
       "      <td>0.16</td>\n",
       "      <td>0.56</td>\n",
       "      <td>1.00</td>\n",
       "    </tr>\n",
       "    <tr>\n",
       "      <th>age</th>\n",
       "      <td>104681.00</td>\n",
       "      <td>52.48</td>\n",
       "      <td>14.43</td>\n",
       "      <td>29.00</td>\n",
       "      <td>41.00</td>\n",
       "      <td>52.00</td>\n",
       "      <td>63.00</td>\n",
       "      <td>87.00</td>\n",
       "    </tr>\n",
       "    <tr>\n",
       "      <th>NumberOfTime3059DaysPastDueNotWorse</th>\n",
       "      <td>104681.00</td>\n",
       "      <td>0.25</td>\n",
       "      <td>0.67</td>\n",
       "      <td>0.00</td>\n",
       "      <td>0.00</td>\n",
       "      <td>0.00</td>\n",
       "      <td>0.00</td>\n",
       "      <td>4.00</td>\n",
       "    </tr>\n",
       "    <tr>\n",
       "      <th>DebtRatio</th>\n",
       "      <td>104681.00</td>\n",
       "      <td>329.53</td>\n",
       "      <td>1039.98</td>\n",
       "      <td>0.00</td>\n",
       "      <td>0.17</td>\n",
       "      <td>0.37</td>\n",
       "      <td>0.86</td>\n",
       "      <td>43960.50</td>\n",
       "    </tr>\n",
       "    <tr>\n",
       "      <th>MonthlyIncome</th>\n",
       "      <td>83990.00</td>\n",
       "      <td>6386.40</td>\n",
       "      <td>4290.46</td>\n",
       "      <td>1300.00</td>\n",
       "      <td>nan</td>\n",
       "      <td>nan</td>\n",
       "      <td>nan</td>\n",
       "      <td>25000.00</td>\n",
       "    </tr>\n",
       "    <tr>\n",
       "      <th>NumberOfOpenCreditLinesAndLoans</th>\n",
       "      <td>104681.00</td>\n",
       "      <td>8.46</td>\n",
       "      <td>4.88</td>\n",
       "      <td>2.00</td>\n",
       "      <td>5.00</td>\n",
       "      <td>8.00</td>\n",
       "      <td>11.00</td>\n",
       "      <td>24.00</td>\n",
       "    </tr>\n",
       "    <tr>\n",
       "      <th>NumberOfTimes90DaysLate</th>\n",
       "      <td>104681.00</td>\n",
       "      <td>0.09</td>\n",
       "      <td>0.40</td>\n",
       "      <td>0.00</td>\n",
       "      <td>0.00</td>\n",
       "      <td>0.00</td>\n",
       "      <td>0.00</td>\n",
       "      <td>3.00</td>\n",
       "    </tr>\n",
       "    <tr>\n",
       "      <th>NumberRealEstateLoansOrLines</th>\n",
       "      <td>104681.00</td>\n",
       "      <td>0.99</td>\n",
       "      <td>0.99</td>\n",
       "      <td>0.00</td>\n",
       "      <td>0.00</td>\n",
       "      <td>1.00</td>\n",
       "      <td>2.00</td>\n",
       "      <td>4.00</td>\n",
       "    </tr>\n",
       "    <tr>\n",
       "      <th>NumberOfTime6089DaysPastDueNotWorse</th>\n",
       "      <td>104681.00</td>\n",
       "      <td>0.06</td>\n",
       "      <td>0.29</td>\n",
       "      <td>0.00</td>\n",
       "      <td>0.00</td>\n",
       "      <td>0.00</td>\n",
       "      <td>0.00</td>\n",
       "      <td>2.00</td>\n",
       "    </tr>\n",
       "    <tr>\n",
       "      <th>NumberOfDependents</th>\n",
       "      <td>101937.00</td>\n",
       "      <td>0.75</td>\n",
       "      <td>1.08</td>\n",
       "      <td>0.00</td>\n",
       "      <td>nan</td>\n",
       "      <td>nan</td>\n",
       "      <td>nan</td>\n",
       "      <td>4.00</td>\n",
       "    </tr>\n",
       "  </tbody>\n",
       "</table>\n",
       "</div>"
      ],
      "text/plain": [
       "                                         count    mean     std     min   25%  \\\n",
       "SeriousDlqin2yrs                     104681.00    0.07    0.25    0.00  0.00   \n",
       "RevolvingUtilizationOfUnsecuredLines 104681.00    0.32    0.35    0.00  0.03   \n",
       "age                                  104681.00   52.48   14.43   29.00 41.00   \n",
       "NumberOfTime3059DaysPastDueNotWorse  104681.00    0.25    0.67    0.00  0.00   \n",
       "DebtRatio                            104681.00  329.53 1039.98    0.00  0.17   \n",
       "MonthlyIncome                         83990.00 6386.40 4290.46 1300.00   nan   \n",
       "NumberOfOpenCreditLinesAndLoans      104681.00    8.46    4.88    2.00  5.00   \n",
       "NumberOfTimes90DaysLate              104681.00    0.09    0.40    0.00  0.00   \n",
       "NumberRealEstateLoansOrLines         104681.00    0.99    0.99    0.00  0.00   \n",
       "NumberOfTime6089DaysPastDueNotWorse  104681.00    0.06    0.29    0.00  0.00   \n",
       "NumberOfDependents                   101937.00    0.75    1.08    0.00   nan   \n",
       "\n",
       "                                       50%   75%      max  \n",
       "SeriousDlqin2yrs                      0.00  0.00     1.00  \n",
       "RevolvingUtilizationOfUnsecuredLines  0.16  0.56     1.00  \n",
       "age                                  52.00 63.00    87.00  \n",
       "NumberOfTime3059DaysPastDueNotWorse   0.00  0.00     4.00  \n",
       "DebtRatio                             0.37  0.86 43960.50  \n",
       "MonthlyIncome                          nan   nan 25000.00  \n",
       "NumberOfOpenCreditLinesAndLoans       8.00 11.00    24.00  \n",
       "NumberOfTimes90DaysLate               0.00  0.00     3.00  \n",
       "NumberRealEstateLoansOrLines          1.00  2.00     4.00  \n",
       "NumberOfTime6089DaysPastDueNotWorse   0.00  0.00     2.00  \n",
       "NumberOfDependents                     nan   nan     4.00  "
      ]
     },
     "execution_count": 6,
     "metadata": {},
     "output_type": "execute_result"
    }
   ],
   "source": [
    "pd.set_option('display.float_format', lambda x: '%.2f' % x)\n",
    "raw_train.drop(['Ident'], axis=1).describe().T"
   ]
  },
  {
   "cell_type": "markdown",
   "metadata": {},
   "source": [
    "So, the data in sparse - it has only 6.7% entries with delinquency.\n",
    "\n",
    "Let's look on count of NANs and zeros:"
   ]
  },
  {
   "cell_type": "code",
   "execution_count": 7,
   "metadata": {
    "collapsed": false
   },
   "outputs": [
    {
     "data": {
      "text/html": [
       "<div>\n",
       "<table border=\"1\" class=\"dataframe\">\n",
       "  <thead>\n",
       "    <tr>\n",
       "      <th></th>\n",
       "      <th colspan=\"2\" halign=\"left\">NANs</th>\n",
       "      <th colspan=\"2\" halign=\"left\">Zeros</th>\n",
       "    </tr>\n",
       "    <tr>\n",
       "      <th></th>\n",
       "      <th>Train</th>\n",
       "      <th>Test</th>\n",
       "      <th>Train</th>\n",
       "      <th>Test</th>\n",
       "    </tr>\n",
       "  </thead>\n",
       "  <tbody>\n",
       "    <tr>\n",
       "      <th>SeriousDlqin2yrs</th>\n",
       "      <td>0.00</td>\n",
       "      <td>nan</td>\n",
       "      <td>97690.00</td>\n",
       "      <td>nan</td>\n",
       "    </tr>\n",
       "    <tr>\n",
       "      <th>RevolvingUtilizationOfUnsecuredLines</th>\n",
       "      <td>0.00</td>\n",
       "      <td>0.00</td>\n",
       "      <td>7602.00</td>\n",
       "      <td>3276.00</td>\n",
       "    </tr>\n",
       "    <tr>\n",
       "      <th>age</th>\n",
       "      <td>0.00</td>\n",
       "      <td>0.00</td>\n",
       "      <td>0.00</td>\n",
       "      <td>0.00</td>\n",
       "    </tr>\n",
       "    <tr>\n",
       "      <th>NumberOfTime3059DaysPastDueNotWorse</th>\n",
       "      <td>0.00</td>\n",
       "      <td>0.00</td>\n",
       "      <td>87865.00</td>\n",
       "      <td>38153.00</td>\n",
       "    </tr>\n",
       "    <tr>\n",
       "      <th>DebtRatio</th>\n",
       "      <td>0.00</td>\n",
       "      <td>0.00</td>\n",
       "      <td>0.00</td>\n",
       "      <td>0.00</td>\n",
       "    </tr>\n",
       "    <tr>\n",
       "      <th>MonthlyIncome</th>\n",
       "      <td>20691.00</td>\n",
       "      <td>9040.00</td>\n",
       "      <td>0.00</td>\n",
       "      <td>0.00</td>\n",
       "    </tr>\n",
       "    <tr>\n",
       "      <th>NumberOfOpenCreditLinesAndLoans</th>\n",
       "      <td>0.00</td>\n",
       "      <td>0.00</td>\n",
       "      <td>0.00</td>\n",
       "      <td>0.00</td>\n",
       "    </tr>\n",
       "    <tr>\n",
       "      <th>NumberOfTimes90DaysLate</th>\n",
       "      <td>0.00</td>\n",
       "      <td>0.00</td>\n",
       "      <td>98893.00</td>\n",
       "      <td>42769.00</td>\n",
       "    </tr>\n",
       "    <tr>\n",
       "      <th>NumberRealEstateLoansOrLines</th>\n",
       "      <td>0.00</td>\n",
       "      <td>0.00</td>\n",
       "      <td>39269.00</td>\n",
       "      <td>16919.00</td>\n",
       "    </tr>\n",
       "    <tr>\n",
       "      <th>NumberOfTime6089DaysPastDueNotWorse</th>\n",
       "      <td>0.00</td>\n",
       "      <td>0.00</td>\n",
       "      <td>99393.00</td>\n",
       "      <td>43003.00</td>\n",
       "    </tr>\n",
       "    <tr>\n",
       "      <th>NumberOfDependents</th>\n",
       "      <td>2744.00</td>\n",
       "      <td>1180.00</td>\n",
       "      <td>60701.00</td>\n",
       "      <td>26201.00</td>\n",
       "    </tr>\n",
       "    <tr>\n",
       "      <th>Ident</th>\n",
       "      <td>0.00</td>\n",
       "      <td>0.00</td>\n",
       "      <td>0.00</td>\n",
       "      <td>0.00</td>\n",
       "    </tr>\n",
       "  </tbody>\n",
       "</table>\n",
       "</div>"
      ],
      "text/plain": [
       "                                         NANs            Zeros         \n",
       "                                        Train    Test    Train     Test\n",
       "SeriousDlqin2yrs                         0.00     nan 97690.00      nan\n",
       "RevolvingUtilizationOfUnsecuredLines     0.00    0.00  7602.00  3276.00\n",
       "age                                      0.00    0.00     0.00     0.00\n",
       "NumberOfTime3059DaysPastDueNotWorse      0.00    0.00 87865.00 38153.00\n",
       "DebtRatio                                0.00    0.00     0.00     0.00\n",
       "MonthlyIncome                        20691.00 9040.00     0.00     0.00\n",
       "NumberOfOpenCreditLinesAndLoans          0.00    0.00     0.00     0.00\n",
       "NumberOfTimes90DaysLate                  0.00    0.00 98893.00 42769.00\n",
       "NumberRealEstateLoansOrLines             0.00    0.00 39269.00 16919.00\n",
       "NumberOfTime6089DaysPastDueNotWorse      0.00    0.00 99393.00 43003.00\n",
       "NumberOfDependents                    2744.00 1180.00 60701.00 26201.00\n",
       "Ident                                    0.00    0.00     0.00     0.00"
      ]
     },
     "execution_count": 7,
     "metadata": {},
     "output_type": "execute_result"
    }
   ],
   "source": [
    "pd.DataFrame([raw_train.isnull().sum(), raw_test.isnull().sum(), (raw_train == 0).sum(), (raw_test == 0).sum()], \n",
    "             index=pd.MultiIndex(levels=[['NANs','Zeros'],['Train','Test']], labels=[[0,0,1,1],[0,1,0,1]]),\n",
    "             columns=raw_train.columns).transpose()"
   ]
  },
  {
   "cell_type": "markdown",
   "metadata": {},
   "source": [
    "There are two fields with NANs - MonthlyIncome and NumberOfDependents.\n",
    "\n",
    "Neither of them has share of entries with delinquency over the average value:"
   ]
  },
  {
   "cell_type": "code",
   "execution_count": 8,
   "metadata": {
    "collapsed": false
   },
   "outputs": [
    {
     "data": {
      "text/plain": [
       "0.05596636218645788"
      ]
     },
     "execution_count": 8,
     "metadata": {},
     "output_type": "execute_result"
    }
   ],
   "source": [
    "raw_train[np.isnan(raw_train.MonthlyIncome)].SeriousDlqin2yrs.mean()"
   ]
  },
  {
   "cell_type": "code",
   "execution_count": 9,
   "metadata": {
    "collapsed": false
   },
   "outputs": [
    {
     "data": {
      "text/plain": [
       "0.047376093294460644"
      ]
     },
     "execution_count": 9,
     "metadata": {},
     "output_type": "execute_result"
    }
   ],
   "source": [
    "raw_train[np.isnan(raw_train.NumberOfDependents)].SeriousDlqin2yrs.mean()"
   ]
  },
  {
   "cell_type": "markdown",
   "metadata": {},
   "source": [
    "The MonthlyIncome field has no zero values and I suppose that nan means no income.\n",
    "\n",
    "The NumberOfDependents field has zero values, but the share on NANs isn't significant:"
   ]
  },
  {
   "cell_type": "code",
   "execution_count": 10,
   "metadata": {
    "collapsed": false
   },
   "outputs": [
    {
     "data": {
      "text/plain": [
       "0.026212970835204095"
      ]
     },
     "execution_count": 10,
     "metadata": {},
     "output_type": "execute_result"
    }
   ],
   "source": [
    "np.mean([int(np.isnan(x)) for x in raw_train.NumberOfDependents])"
   ]
  },
  {
   "cell_type": "markdown",
   "metadata": {},
   "source": [
    "Let's look at the age histogram"
   ]
  },
  {
   "cell_type": "code",
   "execution_count": 11,
   "metadata": {
    "collapsed": false
   },
   "outputs": [
    {
     "data": {
      "text/plain": [
       "(array([ 1512.,  1030.,  1199.,  1190.,   747.,   674.,   311.,   182.,\n",
       "           79.,    67.]),\n",
       " array([ 29. ,  34.8,  40.6,  46.4,  52.2,  58. ,  63.8,  69.6,  75.4,\n",
       "         81.2,  87. ]),\n",
       " <a list of 10 Patch objects>)"
      ]
     },
     "execution_count": 11,
     "metadata": {},
     "output_type": "execute_result"
    },
    {
     "data": {
      "image/png": "[encoded data removed]",
      "text/plain": [
       "<matplotlib.figure.Figure at 0x7f82e2e01790>"
      ]
     },
     "metadata": {},
     "output_type": "display_data"
    }
   ],
   "source": [
    "plt.hist(raw_train.age[raw_train.SeriousDlqin2yrs == 0])\n",
    "plt.hist(raw_train.age[raw_train.SeriousDlqin2yrs == 1])"
   ]
  },
  {
   "cell_type": "markdown",
   "metadata": {},
   "source": [
    "and at the montly income histogram:"
   ]
  },
  {
   "cell_type": "code",
   "execution_count": 12,
   "metadata": {
    "collapsed": false
   },
   "outputs": [
    {
     "data": {
      "text/plain": [
       "(array([ 2174.,  2228.,  1371.,   627.,   274.,   125.,    70.,    32.,\n",
       "           28.,    62.]),\n",
       " array([     0.,   2500.,   5000.,   7500.,  10000.,  12500.,  15000.,\n",
       "         17500.,  20000.,  22500.,  25000.]),\n",
       " <a list of 10 Patch objects>)"
      ]
     },
     "execution_count": 12,
     "metadata": {},
     "output_type": "execute_result"
    },
    {
     "data": {
      "image/png": "[encoded data removed]",
      "text/plain": [
       "<matplotlib.figure.Figure at 0x7f82e1db4110>"
      ]
     },
     "metadata": {},
     "output_type": "display_data"
    }
   ],
   "source": [
    "plt.hist(raw_train.MonthlyIncome.fillna(0)[raw_train.SeriousDlqin2yrs == 0])\n",
    "plt.hist(raw_train.MonthlyIncome.fillna(0)[raw_train.SeriousDlqin2yrs == 1])"
   ]
  },
  {
   "cell_type": "markdown",
   "metadata": {},
   "source": [
    "Pairwise correlation of columns:"
   ]
  },
  {
   "cell_type": "code",
   "execution_count": 13,
   "metadata": {
    "collapsed": false
   },
   "outputs": [
    {
     "data": {
      "text/html": [
       "<div>\n",
       "<table border=\"1\" class=\"dataframe\">\n",
       "  <thead>\n",
       "    <tr style=\"text-align: right;\">\n",
       "      <th></th>\n",
       "      <th>SeriousDlqin2yrs</th>\n",
       "      <th>RevolvingUtilizationOfUnsecuredLines</th>\n",
       "      <th>age</th>\n",
       "      <th>NumberOfTime3059DaysPastDueNotWorse</th>\n",
       "      <th>DebtRatio</th>\n",
       "      <th>MonthlyIncome</th>\n",
       "      <th>NumberOfOpenCreditLinesAndLoans</th>\n",
       "      <th>NumberOfTimes90DaysLate</th>\n",
       "      <th>NumberRealEstateLoansOrLines</th>\n",
       "      <th>NumberOfTime6089DaysPastDueNotWorse</th>\n",
       "      <th>NumberOfDependents</th>\n",
       "    </tr>\n",
       "  </thead>\n",
       "  <tbody>\n",
       "    <tr>\n",
       "      <th>SeriousDlqin2yrs</th>\n",
       "      <td>1.00</td>\n",
       "      <td>0.28</td>\n",
       "      <td>-0.12</td>\n",
       "      <td>0.29</td>\n",
       "      <td>-0.02</td>\n",
       "      <td>-0.06</td>\n",
       "      <td>-0.03</td>\n",
       "      <td>0.35</td>\n",
       "      <td>-0.02</td>\n",
       "      <td>0.29</td>\n",
       "      <td>0.04</td>\n",
       "    </tr>\n",
       "    <tr>\n",
       "      <th>RevolvingUtilizationOfUnsecuredLines</th>\n",
       "      <td>0.28</td>\n",
       "      <td>1.00</td>\n",
       "      <td>-0.28</td>\n",
       "      <td>0.26</td>\n",
       "      <td>-0.02</td>\n",
       "      <td>-0.10</td>\n",
       "      <td>-0.15</td>\n",
       "      <td>0.28</td>\n",
       "      <td>-0.08</td>\n",
       "      <td>0.22</td>\n",
       "      <td>0.09</td>\n",
       "    </tr>\n",
       "    <tr>\n",
       "      <th>age</th>\n",
       "      <td>-0.12</td>\n",
       "      <td>-0.28</td>\n",
       "      <td>1.00</td>\n",
       "      <td>-0.09</td>\n",
       "      <td>0.03</td>\n",
       "      <td>0.10</td>\n",
       "      <td>0.14</td>\n",
       "      <td>-0.10</td>\n",
       "      <td>0.03</td>\n",
       "      <td>-0.09</td>\n",
       "      <td>-0.23</td>\n",
       "    </tr>\n",
       "    <tr>\n",
       "      <th>NumberOfTime3059DaysPastDueNotWorse</th>\n",
       "      <td>0.29</td>\n",
       "      <td>0.26</td>\n",
       "      <td>-0.09</td>\n",
       "      <td>1.00</td>\n",
       "      <td>-0.00</td>\n",
       "      <td>-0.01</td>\n",
       "      <td>0.06</td>\n",
       "      <td>0.30</td>\n",
       "      <td>0.02</td>\n",
       "      <td>0.35</td>\n",
       "      <td>0.06</td>\n",
       "    </tr>\n",
       "    <tr>\n",
       "      <th>DebtRatio</th>\n",
       "      <td>-0.02</td>\n",
       "      <td>-0.02</td>\n",
       "      <td>0.03</td>\n",
       "      <td>-0.00</td>\n",
       "      <td>1.00</td>\n",
       "      <td>-0.08</td>\n",
       "      <td>0.07</td>\n",
       "      <td>-0.02</td>\n",
       "      <td>0.18</td>\n",
       "      <td>-0.01</td>\n",
       "      <td>-0.06</td>\n",
       "    </tr>\n",
       "    <tr>\n",
       "      <th>MonthlyIncome</th>\n",
       "      <td>-0.06</td>\n",
       "      <td>-0.10</td>\n",
       "      <td>0.10</td>\n",
       "      <td>-0.01</td>\n",
       "      <td>-0.08</td>\n",
       "      <td>1.00</td>\n",
       "      <td>0.27</td>\n",
       "      <td>-0.07</td>\n",
       "      <td>0.37</td>\n",
       "      <td>-0.05</td>\n",
       "      <td>0.18</td>\n",
       "    </tr>\n",
       "    <tr>\n",
       "      <th>NumberOfOpenCreditLinesAndLoans</th>\n",
       "      <td>-0.03</td>\n",
       "      <td>-0.15</td>\n",
       "      <td>0.14</td>\n",
       "      <td>0.06</td>\n",
       "      <td>0.07</td>\n",
       "      <td>0.27</td>\n",
       "      <td>1.00</td>\n",
       "      <td>-0.12</td>\n",
       "      <td>0.45</td>\n",
       "      <td>-0.04</td>\n",
       "      <td>0.07</td>\n",
       "    </tr>\n",
       "    <tr>\n",
       "      <th>NumberOfTimes90DaysLate</th>\n",
       "      <td>0.35</td>\n",
       "      <td>0.28</td>\n",
       "      <td>-0.10</td>\n",
       "      <td>0.30</td>\n",
       "      <td>-0.02</td>\n",
       "      <td>-0.07</td>\n",
       "      <td>-0.12</td>\n",
       "      <td>1.00</td>\n",
       "      <td>-0.09</td>\n",
       "      <td>0.37</td>\n",
       "      <td>0.03</td>\n",
       "    </tr>\n",
       "    <tr>\n",
       "      <th>NumberRealEstateLoansOrLines</th>\n",
       "      <td>-0.02</td>\n",
       "      <td>-0.08</td>\n",
       "      <td>0.03</td>\n",
       "      <td>0.02</td>\n",
       "      <td>0.18</td>\n",
       "      <td>0.37</td>\n",
       "      <td>0.45</td>\n",
       "      <td>-0.09</td>\n",
       "      <td>1.00</td>\n",
       "      <td>-0.04</td>\n",
       "      <td>0.14</td>\n",
       "    </tr>\n",
       "    <tr>\n",
       "      <th>NumberOfTime6089DaysPastDueNotWorse</th>\n",
       "      <td>0.29</td>\n",
       "      <td>0.22</td>\n",
       "      <td>-0.09</td>\n",
       "      <td>0.35</td>\n",
       "      <td>-0.01</td>\n",
       "      <td>-0.05</td>\n",
       "      <td>-0.04</td>\n",
       "      <td>0.37</td>\n",
       "      <td>-0.04</td>\n",
       "      <td>1.00</td>\n",
       "      <td>0.03</td>\n",
       "    </tr>\n",
       "    <tr>\n",
       "      <th>NumberOfDependents</th>\n",
       "      <td>0.04</td>\n",
       "      <td>0.09</td>\n",
       "      <td>-0.23</td>\n",
       "      <td>0.06</td>\n",
       "      <td>-0.06</td>\n",
       "      <td>0.18</td>\n",
       "      <td>0.07</td>\n",
       "      <td>0.03</td>\n",
       "      <td>0.14</td>\n",
       "      <td>0.03</td>\n",
       "      <td>1.00</td>\n",
       "    </tr>\n",
       "  </tbody>\n",
       "</table>\n",
       "</div>"
      ],
      "text/plain": [
       "                                      SeriousDlqin2yrs  \\\n",
       "SeriousDlqin2yrs                                  1.00   \n",
       "RevolvingUtilizationOfUnsecuredLines              0.28   \n",
       "age                                              -0.12   \n",
       "NumberOfTime3059DaysPastDueNotWorse               0.29   \n",
       "DebtRatio                                        -0.02   \n",
       "MonthlyIncome                                    -0.06   \n",
       "NumberOfOpenCreditLinesAndLoans                  -0.03   \n",
       "NumberOfTimes90DaysLate                           0.35   \n",
       "NumberRealEstateLoansOrLines                     -0.02   \n",
       "NumberOfTime6089DaysPastDueNotWorse               0.29   \n",
       "NumberOfDependents                                0.04   \n",
       "\n",
       "                                      RevolvingUtilizationOfUnsecuredLines  \\\n",
       "SeriousDlqin2yrs                                                      0.28   \n",
       "RevolvingUtilizationOfUnsecuredLines                                  1.00   \n",
       "age                                                                  -0.28   \n",
       "NumberOfTime3059DaysPastDueNotWorse                                   0.26   \n",
       "DebtRatio                                                            -0.02   \n",
       "MonthlyIncome                                                        -0.10   \n",
       "NumberOfOpenCreditLinesAndLoans                                      -0.15   \n",
       "NumberOfTimes90DaysLate                                               0.28   \n",
       "NumberRealEstateLoansOrLines                                         -0.08   \n",
       "NumberOfTime6089DaysPastDueNotWorse                                   0.22   \n",
       "NumberOfDependents                                                    0.09   \n",
       "\n",
       "                                       age  \\\n",
       "SeriousDlqin2yrs                     -0.12   \n",
       "RevolvingUtilizationOfUnsecuredLines -0.28   \n",
       "age                                   1.00   \n",
       "NumberOfTime3059DaysPastDueNotWorse  -0.09   \n",
       "DebtRatio                             0.03   \n",
       "MonthlyIncome                         0.10   \n",
       "NumberOfOpenCreditLinesAndLoans       0.14   \n",
       "NumberOfTimes90DaysLate              -0.10   \n",
       "NumberRealEstateLoansOrLines          0.03   \n",
       "NumberOfTime6089DaysPastDueNotWorse  -0.09   \n",
       "NumberOfDependents                   -0.23   \n",
       "\n",
       "                                      NumberOfTime3059DaysPastDueNotWorse  \\\n",
       "SeriousDlqin2yrs                                                     0.29   \n",
       "RevolvingUtilizationOfUnsecuredLines                                 0.26   \n",
       "age                                                                 -0.09   \n",
       "NumberOfTime3059DaysPastDueNotWorse                                  1.00   \n",
       "DebtRatio                                                           -0.00   \n",
       "MonthlyIncome                                                       -0.01   \n",
       "NumberOfOpenCreditLinesAndLoans                                      0.06   \n",
       "NumberOfTimes90DaysLate                                              0.30   \n",
       "NumberRealEstateLoansOrLines                                         0.02   \n",
       "NumberOfTime6089DaysPastDueNotWorse                                  0.35   \n",
       "NumberOfDependents                                                   0.06   \n",
       "\n",
       "                                      DebtRatio  MonthlyIncome  \\\n",
       "SeriousDlqin2yrs                          -0.02          -0.06   \n",
       "RevolvingUtilizationOfUnsecuredLines      -0.02          -0.10   \n",
       "age                                        0.03           0.10   \n",
       "NumberOfTime3059DaysPastDueNotWorse       -0.00          -0.01   \n",
       "DebtRatio                                  1.00          -0.08   \n",
       "MonthlyIncome                             -0.08           1.00   \n",
       "NumberOfOpenCreditLinesAndLoans            0.07           0.27   \n",
       "NumberOfTimes90DaysLate                   -0.02          -0.07   \n",
       "NumberRealEstateLoansOrLines               0.18           0.37   \n",
       "NumberOfTime6089DaysPastDueNotWorse       -0.01          -0.05   \n",
       "NumberOfDependents                        -0.06           0.18   \n",
       "\n",
       "                                      NumberOfOpenCreditLinesAndLoans  \\\n",
       "SeriousDlqin2yrs                                                -0.03   \n",
       "RevolvingUtilizationOfUnsecuredLines                            -0.15   \n",
       "age                                                              0.14   \n",
       "NumberOfTime3059DaysPastDueNotWorse                              0.06   \n",
       "DebtRatio                                                        0.07   \n",
       "MonthlyIncome                                                    0.27   \n",
       "NumberOfOpenCreditLinesAndLoans                                  1.00   \n",
       "NumberOfTimes90DaysLate                                         -0.12   \n",
       "NumberRealEstateLoansOrLines                                     0.45   \n",
       "NumberOfTime6089DaysPastDueNotWorse                             -0.04   \n",
       "NumberOfDependents                                               0.07   \n",
       "\n",
       "                                      NumberOfTimes90DaysLate  \\\n",
       "SeriousDlqin2yrs                                         0.35   \n",
       "RevolvingUtilizationOfUnsecuredLines                     0.28   \n",
       "age                                                     -0.10   \n",
       "NumberOfTime3059DaysPastDueNotWorse                      0.30   \n",
       "DebtRatio                                               -0.02   \n",
       "MonthlyIncome                                           -0.07   \n",
       "NumberOfOpenCreditLinesAndLoans                         -0.12   \n",
       "NumberOfTimes90DaysLate                                  1.00   \n",
       "NumberRealEstateLoansOrLines                            -0.09   \n",
       "NumberOfTime6089DaysPastDueNotWorse                      0.37   \n",
       "NumberOfDependents                                       0.03   \n",
       "\n",
       "                                      NumberRealEstateLoansOrLines  \\\n",
       "SeriousDlqin2yrs                                             -0.02   \n",
       "RevolvingUtilizationOfUnsecuredLines                         -0.08   \n",
       "age                                                           0.03   \n",
       "NumberOfTime3059DaysPastDueNotWorse                           0.02   \n",
       "DebtRatio                                                     0.18   \n",
       "MonthlyIncome                                                 0.37   \n",
       "NumberOfOpenCreditLinesAndLoans                               0.45   \n",
       "NumberOfTimes90DaysLate                                      -0.09   \n",
       "NumberRealEstateLoansOrLines                                  1.00   \n",
       "NumberOfTime6089DaysPastDueNotWorse                          -0.04   \n",
       "NumberOfDependents                                            0.14   \n",
       "\n",
       "                                      NumberOfTime6089DaysPastDueNotWorse  \\\n",
       "SeriousDlqin2yrs                                                     0.29   \n",
       "RevolvingUtilizationOfUnsecuredLines                                 0.22   \n",
       "age                                                                 -0.09   \n",
       "NumberOfTime3059DaysPastDueNotWorse                                  0.35   \n",
       "DebtRatio                                                           -0.01   \n",
       "MonthlyIncome                                                       -0.05   \n",
       "NumberOfOpenCreditLinesAndLoans                                     -0.04   \n",
       "NumberOfTimes90DaysLate                                              0.37   \n",
       "NumberRealEstateLoansOrLines                                        -0.04   \n",
       "NumberOfTime6089DaysPastDueNotWorse                                  1.00   \n",
       "NumberOfDependents                                                   0.03   \n",
       "\n",
       "                                      NumberOfDependents  \n",
       "SeriousDlqin2yrs                                    0.04  \n",
       "RevolvingUtilizationOfUnsecuredLines                0.09  \n",
       "age                                                -0.23  \n",
       "NumberOfTime3059DaysPastDueNotWorse                 0.06  \n",
       "DebtRatio                                          -0.06  \n",
       "MonthlyIncome                                       0.18  \n",
       "NumberOfOpenCreditLinesAndLoans                     0.07  \n",
       "NumberOfTimes90DaysLate                             0.03  \n",
       "NumberRealEstateLoansOrLines                        0.14  \n",
       "NumberOfTime6089DaysPastDueNotWorse                 0.03  \n",
       "NumberOfDependents                                  1.00  "
      ]
     },
     "execution_count": 13,
     "metadata": {},
     "output_type": "execute_result"
    }
   ],
   "source": [
    "raw_train.drop('Ident', axis=1).corr()"
   ]
  },
  {
   "cell_type": "markdown",
   "metadata": {
    "collapsed": false
   },
   "source": [
    "There is no pair with strong correlation"
   ]
  },
  {
   "cell_type": "markdown",
   "metadata": {},
   "source": [
    "### Data preprocessing"
   ]
  },
  {
   "cell_type": "markdown",
   "metadata": {},
   "source": [
    "I propose:\n",
    "\n",
    "* Drop out the Ident field\n",
    "* Add 0/1 feature for NANs in the NumberOfDependents fields - it may have some reason\n",
    "* Fill in by 0 all NANs in the MonthlyIncome and NumberOfDependents fields\n",
    "* Add an income per person, that remains after debt payments"
   ]
  },
  {
   "cell_type": "code",
   "execution_count": 124,
   "metadata": {
    "collapsed": true
   },
   "outputs": [],
   "source": [
    "def proccessData(ds):\n",
    "    new_ds = pd.DataFrame.copy(ds)\n",
    "    new_ds.drop('Ident', inplace=True, axis=1)\n",
    "    new_ds['NullInDependents'] = [int(np.isnan(x)) for x in new_ds.NumberOfDependents] \n",
    "    new_ds.MonthlyIncome.fillna(0, inplace=True)\n",
    "    new_ds.NumberOfDependents.fillna(0, inplace=True)\n",
    "    new_ds['IncOnPers'] = new_ds.MonthlyIncome * (1.0 - new_ds.DebtRatio) / (1.0 + new_ds.NumberOfDependents)\n",
    "    return new_ds"
   ]
  },
  {
   "cell_type": "markdown",
   "metadata": {},
   "source": [
    "### Dividing on my train and test sets"
   ]
  },
  {
   "cell_type": "code",
   "execution_count": 14,
   "metadata": {
    "collapsed": false
   },
   "outputs": [],
   "source": [
    "srch_train, srch_test = train_test_split(raw_train, test_size=0.2, random_state=42, \n",
    "                                         stratify=raw_train.SeriousDlqin2yrs)"
   ]
  },
  {
   "cell_type": "markdown",
   "metadata": {},
   "source": [
    "### Model choosing and tuning"
   ]
  },
  {
   "cell_type": "markdown",
   "metadata": {
    "collapsed": false
   },
   "source": [
    "Now I'll write a function for model probing. It uses stratified K-Fold validation for model evaluation. As a metric I choose AUC."
   ]
  },
  {
   "cell_type": "code",
   "execution_count": 76,
   "metadata": {
    "collapsed": false
   },
   "outputs": [],
   "source": [
    "def kFoldValidation(data, prD, prVal, modelParam=[0, {}]):\n",
    "    N_folds = 5\n",
    "    data = prD(data)\n",
    "    \n",
    "    skf = StratifiedKFold(data.SeriousDlqin2yrs, n_folds=N_folds, shuffle=True, random_state=1234)\n",
    "    \n",
    "    res = 0\n",
    "    for train_index, test_index in skf:\n",
    "        res += prVal(data.ix[data.index[train_index]], data.ix[data.index[test_index]], modelParam)\n",
    "        \n",
    "    return float(res) / N_folds"
   ]
  },
  {
   "cell_type": "markdown",
   "metadata": {},
   "source": [
    "Now I'll try several models with two choises:\n",
    "\n",
    "* Original data\n",
    "* With dropping out of part of non-default data. That increases the percentage of defaults in the data set and some algorithms may work better"
   ]
  },
  {
   "cell_type": "markdown",
   "metadata": {},
   "source": [
    "#### Logistic regression\n",
    "\n",
    "Without Drop Out:"
   ]
  },
  {
   "cell_type": "code",
   "execution_count": 125,
   "metadata": {
    "collapsed": false
   },
   "outputs": [
    {
     "data": {
      "text/plain": [
       "0.7637117321525333"
      ]
     },
     "execution_count": 125,
     "metadata": {},
     "output_type": "execute_result"
    }
   ],
   "source": [
    "def logisticRegr(train, test, modelParam):\n",
    "    model = LogisticRegression(**modelParam[1])\n",
    "    model = model.fit(train.drop(['SeriousDlqin2yrs'], axis=1), train['SeriousDlqin2yrs'])\n",
    "    predicted = model.predict_proba(test.drop(['SeriousDlqin2yrs'], axis=1))\n",
    "    return roc_auc_score(test['SeriousDlqin2yrs'], predicted[:,np.dot([0, 1], model.classes_)])\n",
    "\n",
    "kFoldValidation(srch_train, proccessData, logisticRegr)"
   ]
  },
  {
   "cell_type": "markdown",
   "metadata": {},
   "source": [
    "With Drop Out:"
   ]
  },
  {
   "cell_type": "code",
   "execution_count": 126,
   "metadata": {
    "collapsed": false
   },
   "outputs": [
    {
     "data": {
      "text/plain": [
       "0.7772847355052322"
      ]
     },
     "execution_count": 126,
     "metadata": {},
     "output_type": "execute_result"
    }
   ],
   "source": [
    "def logisticRegrDropOut(train, test, modelParam):\n",
    "    model = LogisticRegression(**modelParam[1])\n",
    "    \n",
    "    train = train[[(x == 1) or (random.random() < modelParam[0]) for x in train.SeriousDlqin2yrs]]\n",
    "    \n",
    "    model = model.fit(train.drop(['SeriousDlqin2yrs'], axis=1), train['SeriousDlqin2yrs'])\n",
    "    predicted = model.predict_proba(test.drop(['SeriousDlqin2yrs'], axis=1))\n",
    "    return roc_auc_score(test['SeriousDlqin2yrs'], predicted[:,np.dot([0, 1], model.classes_)])\n",
    "\n",
    "random.seed = 1234\n",
    "kFoldValidation(srch_train, proccessData, logisticRegrDropOut, [0.3, {}])"
   ]
  },
  {
   "cell_type": "markdown",
   "metadata": {},
   "source": [
    "#### Naive Bayes\n",
    "\n",
    "Without Drop Out:"
   ]
  },
  {
   "cell_type": "code",
   "execution_count": 127,
   "metadata": {
    "collapsed": false
   },
   "outputs": [
    {
     "data": {
      "text/plain": [
       "0.6408451035177615"
      ]
     },
     "execution_count": 127,
     "metadata": {},
     "output_type": "execute_result"
    }
   ],
   "source": [
    "def NB(train, test, modelParam):\n",
    "    model = GaussianNB(**modelParam[1])\n",
    "    model = model.fit(train.drop(['SeriousDlqin2yrs'], axis=1), train['SeriousDlqin2yrs'])\n",
    "    predicted = model.predict_proba(test.drop(['SeriousDlqin2yrs'], axis=1))\n",
    "    return roc_auc_score(test['SeriousDlqin2yrs'], predicted[:,np.dot([0, 1], model.classes_)])\n",
    "\n",
    "kFoldValidation(srch_train, proccessData, NB)"
   ]
  },
  {
   "cell_type": "markdown",
   "metadata": {},
   "source": [
    "With Drop Out:"
   ]
  },
  {
   "cell_type": "code",
   "execution_count": 128,
   "metadata": {
    "collapsed": false
   },
   "outputs": [
    {
     "data": {
      "text/plain": [
       "0.6410850071579816"
      ]
     },
     "execution_count": 128,
     "metadata": {},
     "output_type": "execute_result"
    }
   ],
   "source": [
    "def NBDropOut(train, test, modelParam):\n",
    "    model = GaussianNB(**modelParam[1])\n",
    "    \n",
    "    train = train[[(x == 1) or (random.random() < modelParam[0]) for x in train.SeriousDlqin2yrs]]\n",
    "    \n",
    "    model = model.fit(train.drop(['SeriousDlqin2yrs'], axis=1), train['SeriousDlqin2yrs'])\n",
    "    predicted = model.predict_proba(test.drop(['SeriousDlqin2yrs'], axis=1))\n",
    "    return roc_auc_score(test['SeriousDlqin2yrs'], predicted[:,np.dot([0, 1], model.classes_)])\n",
    "\n",
    "random.seed = 1234\n",
    "kFoldValidation(srch_train, proccessData, NBDropOut, [0.3, {}])"
   ]
  },
  {
   "cell_type": "markdown",
   "metadata": {},
   "source": [
    "#### Random forest\n",
    "\n",
    "Without Drop Out:"
   ]
  },
  {
   "cell_type": "code",
   "execution_count": 129,
   "metadata": {
    "collapsed": false
   },
   "outputs": [
    {
     "data": {
      "text/plain": [
       "0.7767652020803762"
      ]
     },
     "execution_count": 129,
     "metadata": {},
     "output_type": "execute_result"
    }
   ],
   "source": [
    "def RF(train, test, modelParam):\n",
    "    model = RandomForestRegressor(**modelParam[1])\n",
    "    model = model.fit(train.drop(['SeriousDlqin2yrs'], axis=1), train['SeriousDlqin2yrs'])\n",
    "    predicted = model.predict(test.drop(['SeriousDlqin2yrs'], axis=1))\n",
    "    return roc_auc_score(test['SeriousDlqin2yrs'], predicted)\n",
    "\n",
    "kFoldValidation(srch_train, proccessData, RF)"
   ]
  },
  {
   "cell_type": "markdown",
   "metadata": {},
   "source": [
    "With Drop Out:"
   ]
  },
  {
   "cell_type": "code",
   "execution_count": 130,
   "metadata": {
    "collapsed": false
   },
   "outputs": [
    {
     "data": {
      "text/plain": [
       "0.815461575832277"
      ]
     },
     "execution_count": 130,
     "metadata": {},
     "output_type": "execute_result"
    }
   ],
   "source": [
    "def RFDropOut(train, test, modelParam):\n",
    "    model = RandomForestRegressor(**modelParam[1])\n",
    "    \n",
    "    train = train[[(x == 1) or (random.random() < modelParam[0]) for x in train.SeriousDlqin2yrs]]\n",
    "    \n",
    "    model = model.fit(train.drop(['SeriousDlqin2yrs'], axis=1), train['SeriousDlqin2yrs'])\n",
    "    predicted = model.predict(test.drop(['SeriousDlqin2yrs'], axis=1))\n",
    "    return roc_auc_score(test['SeriousDlqin2yrs'], predicted)\n",
    "\n",
    "random.seed = 1234\n",
    "kFoldValidation(srch_train, proccessData, RFDropOut, [0.3, {}])"
   ]
  },
  {
   "cell_type": "markdown",
   "metadata": {
    "collapsed": true
   },
   "source": [
    "#### XGBoost\n",
    "\n",
    "Without Drop Out:"
   ]
  },
  {
   "cell_type": "code",
   "execution_count": 131,
   "metadata": {
    "collapsed": false
   },
   "outputs": [
    {
     "data": {
      "text/plain": [
       "0.8614168411300623"
      ]
     },
     "execution_count": 131,
     "metadata": {},
     "output_type": "execute_result"
    }
   ],
   "source": [
    "def XGB(train, test, modelParam):\n",
    "    gbm = xgb.XGBRegressor(**modelParam[1]).fit(train.drop(['SeriousDlqin2yrs'], axis=1), train['SeriousDlqin2yrs'])\n",
    "    predicted = gbm.predict(test.drop(['SeriousDlqin2yrs'], axis=1))\n",
    "    return roc_auc_score(test['SeriousDlqin2yrs'], predicted)\n",
    "\n",
    "kFoldValidation(srch_train, proccessData, XGB, [0, {'max_depth':4, 'n_estimators':500, 'learning_rate':0.05}])"
   ]
  },
  {
   "cell_type": "markdown",
   "metadata": {},
   "source": [
    "With Drop Out:"
   ]
  },
  {
   "cell_type": "code",
   "execution_count": 132,
   "metadata": {
    "collapsed": false
   },
   "outputs": [
    {
     "data": {
      "text/plain": [
       "0.8604112253380484"
      ]
     },
     "execution_count": 132,
     "metadata": {},
     "output_type": "execute_result"
    }
   ],
   "source": [
    "def XGBDropOut(train, test, modelParam):\n",
    "    train = train[[(x == 1) or (random.random() < modelParam[0]) for x in train.SeriousDlqin2yrs]]\n",
    "    gbm = xgb.XGBRegressor(**modelParam[1]).fit(train.drop(['SeriousDlqin2yrs'], axis=1), train['SeriousDlqin2yrs'])\n",
    "    predicted = gbm.predict(test.drop(['SeriousDlqin2yrs'], axis=1))\n",
    "    return roc_auc_score(test['SeriousDlqin2yrs'], predicted)\n",
    "\n",
    "random.seed = 1234\n",
    "kFoldValidation(srch_train, proccessData, XGBDropOut, [0.3, \n",
    "                                                       {'max_depth':4, 'n_estimators':500, 'learning_rate':0.05}])"
   ]
  },
  {
   "cell_type": "markdown",
   "metadata": {
    "collapsed": false
   },
   "source": [
    "##### Tuning\n",
    "\n",
    "The main idea is to try to improve performance of model, but not to overfit it. "
   ]
  },
  {
   "cell_type": "markdown",
   "metadata": {},
   "source": [
    "###### Random Forest with Drop Out\n",
    "\n",
    "Number of trees"
   ]
  },
  {
   "cell_type": "code",
   "execution_count": 91,
   "metadata": {
    "collapsed": false
   },
   "outputs": [
    {
     "data": {
      "text/plain": [
       "[<matplotlib.lines.Line2D at 0x7f82dc4f1590>]"
      ]
     },
     "execution_count": 91,
     "metadata": {},
     "output_type": "execute_result"
    },
    {
     "data": {
      "image/png": "[encoded data removed]",
      "text/plain": [
       "<matplotlib.figure.Figure at 0x7f82dc876690>"
      ]
     },
     "metadata": {},
     "output_type": "display_data"
    }
   ],
   "source": [
    "random.seed = 1234\n",
    "gr = np.arange(5, 50, 1)\n",
    "res = []\n",
    "\n",
    "for g in gr:\n",
    "    res.append(kFoldValidation(srch_train, proccessData, RFDropOut, [0.3, {'n_estimators':g, 'n_jobs':4}]))\n",
    "    \n",
    "plt.figure(figsize=(12,8))\n",
    "plt.plot(gr, res)"
   ]
  },
  {
   "cell_type": "markdown",
   "metadata": {
    "collapsed": false
   },
   "source": [
    "Max fitures"
   ]
  },
  {
   "cell_type": "code",
   "execution_count": 93,
   "metadata": {
    "collapsed": false
   },
   "outputs": [
    {
     "data": {
      "text/plain": [
       "[<matplotlib.lines.Line2D at 0x7f82dc433110>]"
      ]
     },
     "execution_count": 93,
     "metadata": {},
     "output_type": "execute_result"
    },
    {
     "data": {
      "image/png": "[encoded data removed]",
      "text/plain": [
       "<matplotlib.figure.Figure at 0x7f82dc67e210>"
      ]
     },
     "metadata": {},
     "output_type": "display_data"
    }
   ],
   "source": [
    "gr = np.arange(3, 11, 1)\n",
    "res = []\n",
    "\n",
    "for g in gr:\n",
    "    res.append(kFoldValidation(srch_train, proccessData, RFDropOut,\n",
    "                               [0.3, {'n_estimators':30, 'max_features':g, 'n_jobs':4}]))\n",
    "    \n",
    "plt.figure(figsize=(12,8))\n",
    "plt.plot(gr, res)"
   ]
  },
  {
   "cell_type": "markdown",
   "metadata": {},
   "source": [
    "Drop Out ratio"
   ]
  },
  {
   "cell_type": "code",
   "execution_count": 94,
   "metadata": {
    "collapsed": false
   },
   "outputs": [
    {
     "data": {
      "text/plain": [
       "[<matplotlib.lines.Line2D at 0x7f82dc38b550>]"
      ]
     },
     "execution_count": 94,
     "metadata": {},
     "output_type": "execute_result"
    },
    {
     "data": {
      "image/png": "[encoded data removed]",
      "text/plain": [
       "<matplotlib.figure.Figure at 0x7f82dc3a8110>"
      ]
     },
     "metadata": {},
     "output_type": "display_data"
    }
   ],
   "source": [
    "random.seed = 1234\n",
    "\n",
    "gr = np.arange(0, 1.05, 0.05)\n",
    "res = []\n",
    "\n",
    "for g in gr:\n",
    "    res.append(kFoldValidation(srch_train, proccessData, RFDropOut, [g, {'n_estimators':30, 'n_jobs':4}]))\n",
    "    \n",
    "plt.figure(figsize=(12,8))\n",
    "plt.plot(gr, res)"
   ]
  },
  {
   "cell_type": "markdown",
   "metadata": {
    "collapsed": true
   },
   "source": [
    "###### XGBoost"
   ]
  },
  {
   "cell_type": "markdown",
   "metadata": {},
   "source": [
    "Number of estimators (max depth = 1)"
   ]
  },
  {
   "cell_type": "code",
   "execution_count": 96,
   "metadata": {
    "collapsed": false
   },
   "outputs": [
    {
     "data": {
      "text/plain": [
       "[<matplotlib.lines.Line2D at 0x7f82dcf26210>]"
      ]
     },
     "execution_count": 96,
     "metadata": {},
     "output_type": "execute_result"
    },
    {
     "data": {
      "image/png": "[encoded data removed]",
      "text/plain": [
       "<matplotlib.figure.Figure at 0x7f82dcfe82d0>"
      ]
     },
     "metadata": {},
     "output_type": "display_data"
    }
   ],
   "source": [
    "gr = np.arange(100, 1100, 100)\n",
    "res = []\n",
    "\n",
    "for g in gr:\n",
    "    res.append(kFoldValidation(srch_train, proccessData, XGB,\n",
    "                               [0, {'max_depth':1, 'n_estimators':g, 'learning_rate':0.05}]))\n",
    "    \n",
    "plt.figure(figsize=(12,8))\n",
    "plt.plot(gr, res)"
   ]
  },
  {
   "cell_type": "markdown",
   "metadata": {},
   "source": [
    "Number of estimators (max depth = 2)"
   ]
  },
  {
   "cell_type": "code",
   "execution_count": 152,
   "metadata": {
    "collapsed": false
   },
   "outputs": [
    {
     "data": {
      "text/plain": [
       "[<matplotlib.lines.Line2D at 0x7f82dc2bc590>]"
      ]
     },
     "execution_count": 152,
     "metadata": {},
     "output_type": "execute_result"
    },
    {
     "data": {
      "image/png": "[encoded data removed]",
      "text/plain": [
       "<matplotlib.figure.Figure at 0x7f82dcaa8c90>"
      ]
     },
     "metadata": {},
     "output_type": "display_data"
    }
   ],
   "source": [
    "gr = np.arange(100, 1100, 100)\n",
    "res = []\n",
    "\n",
    "for g in gr:\n",
    "    res.append(kFoldValidation(srch_train, proccessData, XGB,\n",
    "                               [0, {'max_depth':2, 'n_estimators':g, 'learning_rate':0.05}]))\n",
    "    \n",
    "plt.figure(figsize=(12,8))\n",
    "plt.plot(gr, res)"
   ]
  },
  {
   "cell_type": "markdown",
   "metadata": {},
   "source": [
    "Max depth (Number of estimators = 500)"
   ]
  },
  {
   "cell_type": "code",
   "execution_count": 99,
   "metadata": {
    "collapsed": false
   },
   "outputs": [
    {
     "data": {
      "text/plain": [
       "[<matplotlib.lines.Line2D at 0x7f82dcd1a990>]"
      ]
     },
     "execution_count": 99,
     "metadata": {},
     "output_type": "execute_result"
    },
    {
     "data": {
      "image/png": "[encoded data removed]",
      "text/plain": [
       "<matplotlib.figure.Figure at 0x7f82dceab2d0>"
      ]
     },
     "metadata": {},
     "output_type": "display_data"
    }
   ],
   "source": [
    "gr = np.arange(1, 11, 1)\n",
    "res = []\n",
    "\n",
    "for g in gr:\n",
    "    res.append(kFoldValidation(srch_train, proccessData, XGB,\n",
    "                               [0, {'max_depth':g, 'n_estimators':500, 'learning_rate':0.05}]))\n",
    "    \n",
    "plt.figure(figsize=(12,8))\n",
    "plt.plot(gr, res)"
   ]
  },
  {
   "cell_type": "markdown",
   "metadata": {},
   "source": [
    "Learning rate"
   ]
  },
  {
   "cell_type": "code",
   "execution_count": 118,
   "metadata": {
    "collapsed": false
   },
   "outputs": [
    {
     "data": {
      "image/png": "[encoded data removed]",
      "text/plain": [
       "<matplotlib.figure.Figure at 0x7f82dcce3610>"
      ]
     },
     "metadata": {},
     "output_type": "display_data"
    }
   ],
   "source": [
    "gr = [10 ** x  for x in np.arange(-3, 0, 0.25)]\n",
    "res = []\n",
    "\n",
    "for g in gr:\n",
    "    res.append(kFoldValidation(srch_train, proccessData, XGB,\n",
    "                               [0, {'max_depth':3, 'n_estimators':500, 'learning_rate':g}]))\n",
    "    \n",
    "plt.figure(figsize=(12,8))\n",
    "plt.plot(gr, res)\n",
    "plt.xscale('log')\n",
    "plt.show()"
   ]
  },
  {
   "cell_type": "markdown",
   "metadata": {},
   "source": [
    "Optimum 10^-1.8 = 0.016"
   ]
  },
  {
   "cell_type": "markdown",
   "metadata": {},
   "source": [
    "### Testing on the new data"
   ]
  },
  {
   "cell_type": "code",
   "execution_count": 133,
   "metadata": {
    "collapsed": false
   },
   "outputs": [
    {
     "data": {
      "text/plain": [
       "0.83342416081230286"
      ]
     },
     "execution_count": 133,
     "metadata": {},
     "output_type": "execute_result"
    }
   ],
   "source": [
    "RFDropOut(proccessData(srch_train), proccessData(srch_test), [0.2, {'n_estimators':30, 'n_jobs':4}])"
   ]
  },
  {
   "cell_type": "code",
   "execution_count": 134,
   "metadata": {
    "collapsed": false
   },
   "outputs": [
    {
     "data": {
      "text/plain": [
       "0.8630035149978097"
      ]
     },
     "execution_count": 134,
     "metadata": {},
     "output_type": "execute_result"
    }
   ],
   "source": [
    "XGB(proccessData(srch_train), proccessData(srch_test), \n",
    "    [0, {'max_depth':3, 'n_estimators':500, 'learning_rate':0.016}])"
   ]
  },
  {
   "cell_type": "markdown",
   "metadata": {},
   "source": [
    "Results are close to the previous ones, hence the models aren't overfitted"
   ]
  },
  {
   "cell_type": "markdown",
   "metadata": {},
   "source": [
    "### Test data prediction"
   ]
  },
  {
   "cell_type": "markdown",
   "metadata": {},
   "source": [
    "XGBoost model"
   ]
  },
  {
   "cell_type": "code",
   "execution_count": 149,
   "metadata": {
    "collapsed": false
   },
   "outputs": [],
   "source": [
    "train = proccessData(raw_train)\n",
    "test = proccessData(raw_test)\n",
    "\n",
    "gbm = xgb.XGBRegressor(**{'max_depth':3, 'n_estimators':500, 'learning_rate':0.016}).fit(\n",
    "    train.drop(['SeriousDlqin2yrs'], axis=1),\n",
    "    train['SeriousDlqin2yrs'])\n",
    "\n",
    "predicted = [max(0, min(1, x)) for x in gbm.predict(test)]\n",
    "\n",
    "result = pd.DataFrame([raw_test.Ident.values, predicted], index=['Ident','probability']).T"
   ]
  },
  {
   "cell_type": "code",
   "execution_count": 150,
   "metadata": {
    "collapsed": false
   },
   "outputs": [],
   "source": [
    "result.to_csv('Result.csv', index=False, quoting=2)"
   ]
  }
 ],
 "metadata": {
  "kernelspec": {
   "display_name": "Python 3",
   "language": "python",
   "name": "python3"
  },
  "language_info": {
   "codemirror_mode": {
    "name": "ipython",
    "version": 3
   },
   "file_extension": ".py",
   "mimetype": "text/x-python",
   "name": "python",
   "nbconvert_exporter": "python",
   "pygments_lexer": "ipython3",
   "version": "3.5.1"
  }
 },
 "nbformat": 4,
 "nbformat_minor": 0
}
